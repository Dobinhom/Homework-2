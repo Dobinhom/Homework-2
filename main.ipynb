{
 "cells": [
  {
   "cell_type": "code",
   "execution_count": 1,
   "id": "fb1d312e-eb17-4930-8c89-b79ce0f149bb",
   "metadata": {},
   "outputs": [],
   "source": [
    "import os\n",
    "import csv\n",
    "from pathlib import Path\n",
    "import pandas as pd"
   ]
  },
  {
   "cell_type": "code",
   "execution_count": 2,
   "id": "f2352dab-8b77-46c4-955b-0a789c029173",
   "metadata": {},
   "outputs": [],
   "source": [
    "# established a path to where the csv is located\n",
    "\n",
    "csvpath = Path(\"budget_data.csv\")"
   ]
  },
  {
   "cell_type": "code",
   "execution_count": 6,
   "id": "370ec2fd-dd05-47c1-9109-6a515944434f",
   "metadata": {},
   "outputs": [],
   "source": [
    "#  reading the csv file using panda\n",
    "df = pd.read_csv(\"budget_data.csv\")"
   ]
  },
  {
   "cell_type": "code",
   "execution_count": 4,
   "id": "262c8e43-2637-4604-8b7b-836a368d5492",
   "metadata": {},
   "outputs": [],
   "source": [
    "# initialize variables\n",
    "\n",
    "total_months = 0\n",
    "total_profit_loss = 0\n",
    "previous_profit_loss = 0\n",
    "profit_loss_change_list = []\n",
    "greatest_increase_date = \"\"\n",
    "greatest_increase_amount = 0\n",
    "greatest_decrease_date = \"\"\n",
    "greatest_decrease_amount = 0"
   ]
  },
  {
   "cell_type": "code",
   "execution_count": 5,
   "id": "7e045266-4410-41a7-9ea3-a32634d1bb4d",
   "metadata": {},
   "outputs": [
    {
     "name": "stdout",
     "output_type": "stream",
     "text": [
      "Financial Analysis\n",
      "----------------------------\n",
      "Total Months: 86\n",
      "Total: $38382578\n",
      "Average Change: $-2315.12\n",
      "Greatest Increase in Profits: Feb-2012 ($1926159)\n",
      "Greatest Decrease in Profits: Sep-2013 ($-2196167)\n"
     ]
    }
   ],
   "source": [
    "# open the CSV file\n",
    "\n",
    "with open(csvpath, newline='') as csvfile:\n",
    "    \n",
    "      # create a CSV reader object\n",
    "    csvreader = csv.reader(csvfile, delimiter=',')\n",
    "    # skip the header row\n",
    "    next(csvreader)\n",
    "       # loop through the rows in the CSV file\n",
    "    for row in csvreader:\n",
    "                total_months += 1\n",
    "                total_profit_loss += int(row[1])\n",
    "                profit_loss_change = int(row[1]) - previous_profit_loss\n",
    "                profit_loss_change_list.append(profit_loss_change)\n",
    "                if profit_loss_change > greatest_increase_amount:\n",
    "                    greatest_increase_date = row[0]\n",
    "                    greatest_increase_amount = profit_loss_change\n",
    "                elif profit_loss_change < greatest_decrease_amount:\n",
    "                    greatest_decrease_date = row[0]\n",
    "                    greatest_decrease_amount = profit_loss_change\n",
    "             \n",
    "            # set the current profit/loss as the previous profit/loss for the next iteration\n",
    "                previous_profit_loss = int(row[1])\n",
    "\n",
    " # calculate the average change in profit/loss               \n",
    "average_change = sum(profit_loss_change_list[1:]) / len(profit_loss_change_list[1:])\n",
    "\n",
    "# print the analysis to the terminal            \n",
    "print(\"Financial Analysis\")\n",
    "print(\"----------------------------\")\n",
    "print(f\"Total Months: {total_months}\")\n",
    "print(f\"Total: ${total_profit_loss}\")\n",
    "print(f\"Average Change: ${average_change:.2f}\")\n",
    "print(f\"Greatest Increase in Profits: {greatest_increase_date} (${greatest_increase_amount})\")\n",
    "print(f\"Greatest Decrease in Profits: {greatest_decrease_date} (${greatest_decrease_amount})\")\n",
    "\n",
    "# export a text file with the results\n",
    "output_path = os.path.join(\"financial_analysis.txt\")\n",
    "with open(output_path, \"w\") as textfile:\n",
    "    textfile.write(\"Financial Analysis\\n\")\n",
    "    textfile.write(\"----------------------------\\n\")\n",
    "    textfile.write(f\"Total Months: {total_months}\\n\")\n",
    "    textfile.write(f\"Total: ${total_profit_loss}\\n\")\n",
    "    textfile.write(f\"Average Change: ${average_change:.2f}\\n\")\n",
    "    textfile.write(f\"Greatest Increase in Profits: {greatest_increase_date} (${greatest_increase_amount})\\n\")\n",
    "    textfile.write(f\"Greatest Decrease in Profits: {greatest_decrease_date} (${greatest_decrease_amount})\\n\")"
   ]
  },
  {
   "cell_type": "code",
   "execution_count": null,
   "id": "fb46d933-b274-48d2-8f85-678b60e9816d",
   "metadata": {},
   "outputs": [],
   "source": []
  }
 ],
 "metadata": {
  "kernelspec": {
   "display_name": "Python 3 (ipykernel)",
   "language": "python",
   "name": "python3"
  },
  "language_info": {
   "codemirror_mode": {
    "name": "ipython",
    "version": 3
   },
   "file_extension": ".py",
   "mimetype": "text/x-python",
   "name": "python",
   "nbconvert_exporter": "python",
   "pygments_lexer": "ipython3",
   "version": "3.7.13"
  }
 },
 "nbformat": 4,
 "nbformat_minor": 5
}
